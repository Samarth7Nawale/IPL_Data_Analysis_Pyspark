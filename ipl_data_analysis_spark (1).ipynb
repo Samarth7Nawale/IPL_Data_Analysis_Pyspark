{
 "cells": [
  {
   "cell_type": "code",
   "execution_count": 0,
   "metadata": {
    "application/vnd.databricks.v1+cell": {
     "cellMetadata": {
      "byteLimit": 2048000,
      "rowLimit": 10000
     },
     "inputWidgets": {},
     "nuid": "a511d4df-ffff-437e-955d-1a2ad7202cb9",
     "showTitle": false,
     "title": ""
    }
   },
   "outputs": [
    {
     "output_type": "display_data",
     "data": {
      "text/html": [
       "\n",
       "            <div>\n",
       "                <p><b>SparkSession - hive</b></p>\n",
       "                \n",
       "        <div>\n",
       "            <p><b>SparkContext</b></p>\n",
       "\n",
       "            <p><a href=\"/?o=9003383167418360#setting/sparkui/0701-112310-bey2144n/driver-5656304293154039673\">Spark UI</a></p>\n",
       "\n",
       "            <dl>\n",
       "              <dt>Version</dt>\n",
       "                <dd><code>v3.3.2</code></dd>\n",
       "              <dt>Master</dt>\n",
       "                <dd><code>local[8]</code></dd>\n",
       "              <dt>AppName</dt>\n",
       "                <dd><code>Databricks Shell</code></dd>\n",
       "            </dl>\n",
       "        </div>\n",
       "        \n",
       "            </div>\n",
       "        "
      ]
     },
     "metadata": {
      "application/vnd.databricks.v1+output": {
       "addedWidgets": {},
       "arguments": {},
       "data": "\n            <div>\n                <p><b>SparkSession - hive</b></p>\n                \n        <div>\n            <p><b>SparkContext</b></p>\n\n            <p><a href=\"/?o=9003383167418360#setting/sparkui/0701-112310-bey2144n/driver-5656304293154039673\">Spark UI</a></p>\n\n            <dl>\n              <dt>Version</dt>\n                <dd><code>v3.3.2</code></dd>\n              <dt>Master</dt>\n                <dd><code>local[8]</code></dd>\n              <dt>AppName</dt>\n                <dd><code>Databricks Shell</code></dd>\n            </dl>\n        </div>\n        \n            </div>\n        ",
       "datasetInfos": [],
       "metadata": {},
       "removedWidgets": [],
       "textData": null,
       "type": "htmlSandbox"
      }
     },
     "output_type": "display_data"
    }
   ],
   "source": [
    "spark\n"
   ]
  },
  {
   "cell_type": "code",
   "execution_count": 0,
   "metadata": {
    "application/vnd.databricks.v1+cell": {
     "cellMetadata": {
      "byteLimit": 2048000,
      "rowLimit": 10000
     },
     "inputWidgets": {},
     "nuid": "3533e0e1-63a6-4c9a-b730-9096b814d708",
     "showTitle": false,
     "title": ""
    }
   },
   "outputs": [],
   "source": [
    "from pyspark.sql.functions import *"
   ]
  },
  {
   "cell_type": "code",
   "execution_count": 0,
   "metadata": {
    "application/vnd.databricks.v1+cell": {
     "cellMetadata": {
      "byteLimit": 2048000,
      "rowLimit": 10000
     },
     "inputWidgets": {},
     "nuid": "eb7aebf0-2f68-4535-86d4-5a3ad16aa6d6",
     "showTitle": false,
     "title": ""
    }
   },
   "outputs": [],
   "source": [
    "from pyspark.sql.functions import *\n",
    "from pyspark.sql.window import Window\n",
    "from pyspark.sql.functions import col, row_number\n",
    "from pyspark.sql import SparkSession\n",
    "from pyspark.sql.types import StructType,StructField,IntegerType,StringType,DateType,BooleanType,DecimalType"
   ]
  },
  {
   "cell_type": "code",
   "execution_count": 0,
   "metadata": {
    "application/vnd.databricks.v1+cell": {
     "cellMetadata": {
      "byteLimit": 2048000,
      "rowLimit": 10000
     },
     "inputWidgets": {},
     "nuid": "f29b4dd6-3546-4c89-a847-2eca8013d031",
     "showTitle": false,
     "title": ""
    }
   },
   "outputs": [],
   "source": [
    " ball_by_ball_schema=StructType([\n",
    "    StructField(\"match_id\", IntegerType(), True),\n",
    "    StructField(\"over_id\", IntegerType(), True),\n",
    "    StructField(\"ball_id\", IntegerType(), True),\n",
    "    StructField(\"innings_no\", IntegerType(), True),\n",
    "    StructField(\"team_batting\", StringType(), True),\n",
    "    StructField(\"team_bowling\", StringType(), True),\n",
    "    StructField(\"striker_batting_position\", IntegerType(), True),\n",
    "    StructField(\"extra_type\", StringType(), True),\n",
    "    StructField(\"runs_scored\", IntegerType(), True),\n",
    "    StructField(\"extra_runs\", IntegerType(), True),\n",
    "    StructField(\"wides\", IntegerType(), True),\n",
    "    StructField(\"legbyes\", IntegerType(), True),\n",
    "    StructField(\"byes\", IntegerType(), True),\n",
    "    StructField(\"noballs\", IntegerType(), True),\n",
    "    StructField(\"penalty\", IntegerType(), True),\n",
    "    StructField(\"bowler_extras\", IntegerType(), True),\n",
    "    StructField(\"out_type\", StringType(), True),\n",
    "    StructField(\"caught\", BooleanType(), True),\n",
    "    StructField(\"bowled\", BooleanType(), True),\n",
    "    StructField(\"run_out\", BooleanType(), True),\n",
    "    StructField(\"lbw\", BooleanType(), True),\n",
    "    StructField(\"retired_hurt\", BooleanType(), True),\n",
    "    StructField(\"stumped\", BooleanType(), True),\n",
    "    StructField(\"caught_and_bowled\", BooleanType(), True),\n",
    "    StructField(\"hit_wicket\", BooleanType(), True),\n",
    "    StructField(\"obstructingfeild\", BooleanType(), True),\n",
    "    StructField(\"bowler_wicket\", BooleanType(), True),\n",
    "    StructField(\"match_date\", DateType(), True),\n",
    "    StructField(\"season\", IntegerType(), True),\n",
    "    StructField(\"striker\", IntegerType(), True),\n",
    "    StructField(\"non_striker\", IntegerType(), True),\n",
    "    StructField(\"bowler\", IntegerType(), True),\n",
    "    StructField(\"player_out\", IntegerType(), True),\n",
    "    StructField(\"fielders\", IntegerType(), True),\n",
    "    StructField(\"striker_match_sk\", IntegerType(), True),\n",
    "    StructField(\"strikersk\", IntegerType(), True),\n",
    "    StructField(\"nonstriker_match_sk\", IntegerType(), True),\n",
    "    StructField(\"nonstriker_sk\", IntegerType(), True),\n",
    "    StructField(\"fielder_match_sk\", IntegerType(), True),\n",
    "    StructField(\"fielder_sk\", IntegerType(), True),\n",
    "    StructField(\"bowler_match_sk\", IntegerType(), True),\n",
    "    StructField(\"bowler_sk\", IntegerType(), True),\n",
    "    StructField(\"playerout_match_sk\", IntegerType(), True),\n",
    "    StructField(\"battingteam_sk\", IntegerType(), True),\n",
    "    StructField(\"bowlingteam_sk\", IntegerType(), True),\n",
    "    StructField(\"keeper_catch\", BooleanType(), True),\n",
    "    StructField(\"player_out_sk\", IntegerType(), True),\n",
    "    StructField(\"matchdatesk\", DateType(), True)\n",
    "])\n"
   ]
  },
  {
   "cell_type": "code",
   "execution_count": 0,
   "metadata": {
    "application/vnd.databricks.v1+cell": {
     "cellMetadata": {
      "byteLimit": 2048000,
      "rowLimit": 10000
     },
     "inputWidgets": {},
     "nuid": "33b0c2b2-8433-44ff-8ebc-9dde9b733e18",
     "showTitle": false,
     "title": ""
    }
   },
   "outputs": [],
   "source": [
    "spark = SparkSession.builder.appName(\"IPL Data Analysis\").getOrCreate()"
   ]
  },
  {
   "cell_type": "code",
   "execution_count": 0,
   "metadata": {
    "application/vnd.databricks.v1+cell": {
     "cellMetadata": {
      "byteLimit": 2048000,
      "rowLimit": 10000
     },
     "inputWidgets": {},
     "nuid": "18ffa9e8-cfef-4293-9680-a2bf9e2cdb69",
     "showTitle": false,
     "title": ""
    }
   },
   "outputs": [
    {
     "output_type": "display_data",
     "data": {
      "text/html": [
       "<style scoped>\n",
       "  .table-result-container {\n",
       "    max-height: 300px;\n",
       "    overflow: auto;\n",
       "  }\n",
       "  table, th, td {\n",
       "    border: 1px solid black;\n",
       "    border-collapse: collapse;\n",
       "  }\n",
       "  th, td {\n",
       "    padding: 5px;\n",
       "  }\n",
       "  th {\n",
       "    text-align: left;\n",
       "  }\n",
       "</style><div class='table-result-container'><table class='table-result'><thead style='background-color: white'><tr><th>path</th><th>name</th><th>size</th><th>modificationTime</th></tr></thead><tbody><tr><td>dbfs:/FileStore/ipl_dataset_till_2017/raghu543-ipl-data-till-2017/Ball_By_Ball.csv</td><td>Ball_By_Ball.csv</td><td>25099132</td><td>1719231724000</td></tr><tr><td>dbfs:/FileStore/ipl_dataset_till_2017/raghu543-ipl-data-till-2017/Match.csv</td><td>Match.csv</td><td>113358</td><td>1719231713000</td></tr><tr><td>dbfs:/FileStore/ipl_dataset_till_2017/raghu543-ipl-data-till-2017/Player.csv</td><td>Player.csv</td><td>34614</td><td>1719231714000</td></tr><tr><td>dbfs:/FileStore/ipl_dataset_till_2017/raghu543-ipl-data-till-2017/Player_match.csv</td><td>Player_match.csv</td><td>2664692</td><td>1719231717000</td></tr><tr><td>dbfs:/FileStore/ipl_dataset_till_2017/raghu543-ipl-data-till-2017/Team.csv</td><td>Team.csv</td><td>343</td><td>1719231718000</td></tr><tr><td>dbfs:/FileStore/ipl_dataset_till_2017/raghu543-ipl-data-till-2017/workspace</td><td>workspace</td><td>16014</td><td>1719231718000</td></tr></tbody></table></div>"
      ]
     },
     "metadata": {
      "application/vnd.databricks.v1+output": {
       "addedWidgets": {},
       "aggData": [],
       "aggError": "",
       "aggOverflow": false,
       "aggSchema": [],
       "aggSeriesLimitReached": false,
       "aggType": "",
       "arguments": {},
       "columnCustomDisplayInfos": {},
       "data": [
        [
         "dbfs:/FileStore/ipl_dataset_till_2017/raghu543-ipl-data-till-2017/Ball_By_Ball.csv",
         "Ball_By_Ball.csv",
         25099132,
         1719231724000
        ],
        [
         "dbfs:/FileStore/ipl_dataset_till_2017/raghu543-ipl-data-till-2017/Match.csv",
         "Match.csv",
         113358,
         1719231713000
        ],
        [
         "dbfs:/FileStore/ipl_dataset_till_2017/raghu543-ipl-data-till-2017/Player.csv",
         "Player.csv",
         34614,
         1719231714000
        ],
        [
         "dbfs:/FileStore/ipl_dataset_till_2017/raghu543-ipl-data-till-2017/Player_match.csv",
         "Player_match.csv",
         2664692,
         1719231717000
        ],
        [
         "dbfs:/FileStore/ipl_dataset_till_2017/raghu543-ipl-data-till-2017/Team.csv",
         "Team.csv",
         343,
         1719231718000
        ],
        [
         "dbfs:/FileStore/ipl_dataset_till_2017/raghu543-ipl-data-till-2017/workspace",
         "workspace",
         16014,
         1719231718000
        ]
       ],
       "datasetInfos": [],
       "dbfsResultPath": null,
       "isJsonSchema": true,
       "metadata": {
        "isDbfsCommandResult": false
       },
       "overflow": false,
       "plotOptions": {
        "customPlotOptions": {},
        "displayType": "table",
        "pivotAggregation": null,
        "pivotColumns": null,
        "xColumns": null,
        "yColumns": null
       },
       "removedWidgets": [],
       "schema": [
        {
         "metadata": "{}",
         "name": "path",
         "type": "\"string\""
        },
        {
         "metadata": "{}",
         "name": "name",
         "type": "\"string\""
        },
        {
         "metadata": "{}",
         "name": "size",
         "type": "\"long\""
        },
        {
         "metadata": "{}",
         "name": "modificationTime",
         "type": "\"long\""
        }
       ],
       "type": "table"
      }
     },
     "output_type": "display_data"
    }
   ],
   "source": [
    "%fs ls dbfs:/FileStore/ipl_dataset_till_2017/raghu543-ipl-data-till-2017\n"
   ]
  },
  {
   "cell_type": "code",
   "execution_count": 0,
   "metadata": {
    "application/vnd.databricks.v1+cell": {
     "cellMetadata": {
      "byteLimit": 2048000,
      "rowLimit": 10000
     },
     "inputWidgets": {},
     "nuid": "36d84053-0f4c-42ab-bb69-50236189a9aa",
     "showTitle": false,
     "title": ""
    }
   },
   "outputs": [],
   "source": [
    "ball_by_ball_df = spark.read.schema(ball_by_ball_schema).format(\"csv\").option(\"header\",\"true\").load(\"dbfs:/FileStore/ipl_dataset_till_2017/raghu543-ipl-data-till-2017/Ball_By_Ball.csv\")"
   ]
  },
  {
   "cell_type": "code",
   "execution_count": 0,
   "metadata": {
    "application/vnd.databricks.v1+cell": {
     "cellMetadata": {
      "byteLimit": 2048000,
      "rowLimit": 10000
     },
     "inputWidgets": {},
     "nuid": "652b729f-e32a-4a9f-b644-b15a2793dccb",
     "showTitle": false,
     "title": ""
    }
   },
   "outputs": [
    {
     "output_type": "stream",
     "name": "stdout",
     "output_type": "stream",
     "text": [
      "+--------+-------+-------+----------+------------+------------+------------------------+----------+-----------+----------+-----+-------+----+-------+-------+-------------+--------------+------+------+-------+----+------------+-------+-----------------+----------+----------------+-------------+----------+------+-------+-----------+------+----------+--------+----------------+---------+-------------------+-------------+----------------+----------+---------------+---------+------------------+--------------+--------------+------------+-------------+-----------+\n|match_id|over_id|ball_id|innings_no|team_batting|team_bowling|striker_batting_position|extra_type|runs_scored|extra_runs|wides|legbyes|byes|noballs|penalty|bowler_extras|      out_type|caught|bowled|run_out| lbw|retired_hurt|stumped|caught_and_bowled|hit_wicket|obstructingfeild|bowler_wicket|match_date|season|striker|non_striker|bowler|player_out|fielders|striker_match_sk|strikersk|nonstriker_match_sk|nonstriker_sk|fielder_match_sk|fielder_sk|bowler_match_sk|bowler_sk|playerout_match_sk|battingteam_sk|bowlingteam_sk|keeper_catch|player_out_sk|matchdatesk|\n+--------+-------+-------+----------+------------+------------+------------------------+----------+-----------+----------+-----+-------+----+-------+-------+-------------+--------------+------+------+-------+----+------------+-------+-----------------+----------+----------------+-------------+----------+------+-------+-----------+------+----------+--------+----------------+---------+-------------------+-------------+----------------+----------+---------------+---------+------------------+--------------+--------------+------------+-------------+-----------+\n|  598028|     15|      6|         1|           5|           2|                       6| No Extras|          4|         0|    0|      0|   0|      0|      0|            0|Not Applicable|  null|  null|   null|null|        null|   null|             null|      null|            null|         null|      null|  2013|    277|        104|    83|      null|    null|           20336|      276|              20333|          103|              -1|        -1|          20343|       82|                -1|             4|             1|        null|            0|       null|\n|  598028|     14|      1|         1|           5|           2|                       5| No Extras|          1|         0|    0|      0|   0|      0|      0|            0|Not Applicable|  null|  null|   null|null|        null|   null|             null|      null|            null|         null|      null|  2013|    104|          6|   346|      null|    null|           20333|      103|              20328|            5|              -1|        -1|          20348|      345|                -1|             4|             1|        null|            0|       null|\n|  598028|     14|      2|         1|           5|           2|                       3| No Extras|          1|         0|    0|      0|   0|      0|      0|            0|Not Applicable|  null|  null|   null|null|        null|   null|             null|      null|            null|         null|      null|  2013|      6|        104|   346|      null|    null|           20328|        5|              20333|          103|              -1|        -1|          20348|      345|                -1|             4|             1|        null|            0|       null|\n|  598028|     14|      3|         1|           5|           2|                       5| No Extras|          1|         0|    0|      0|   0|      0|      0|            0|Not Applicable|  null|  null|   null|null|        null|   null|             null|      null|            null|         null|      null|  2013|    104|          6|   346|      null|    null|           20333|      103|              20328|            5|              -1|        -1|          20348|      345|                -1|             4|             1|        null|            0|       null|\n|  598028|     14|      4|         1|           5|           2|                       3| No Extras|          0|         0|    0|      0|   0|      0|      0|            0|Not Applicable|  null|  null|   null|null|        null|   null|             null|      null|            null|         null|      null|  2013|      6|        104|   346|      null|    null|           20328|        5|              20333|          103|              -1|        -1|          20348|      345|                -1|             4|             1|        null|            0|       null|\n+--------+-------+-------+----------+------------+------------+------------------------+----------+-----------+----------+-----+-------+----+-------+-------+-------------+--------------+------+------+-------+----+------------+-------+-----------------+----------+----------------+-------------+----------+------+-------+-----------+------+----------+--------+----------------+---------+-------------------+-------------+----------------+----------+---------------+---------+------------------+--------------+--------------+------------+-------------+-----------+\nonly showing top 5 rows\n\n"
     ]
    }
   ],
   "source": [
    "ball_by_ball_df.show(5)"
   ]
  },
  {
   "cell_type": "code",
   "execution_count": 0,
   "metadata": {
    "application/vnd.databricks.v1+cell": {
     "cellMetadata": {
      "byteLimit": 2048000,
      "rowLimit": 10000
     },
     "inputWidgets": {},
     "nuid": "4c64e58f-60b9-4817-be5f-f20cef73822f",
     "showTitle": false,
     "title": ""
    }
   },
   "outputs": [],
   "source": [
    "match_schema = StructType([\n",
    "    StructField(\"match_sk\", IntegerType(), True),\n",
    "    StructField(\"match_id\", IntegerType(), True),\n",
    "    StructField(\"team1\", StringType(), True),\n",
    "    StructField(\"team2\", StringType(), True),\n",
    "    StructField(\"match_date\", DateType(), True),\n",
    "    StructField(\"season_year\", IntegerType(), True),  # YearType() can be used if PySpark supports it directly\n",
    "    StructField(\"venue_name\", StringType(), True),\n",
    "    StructField(\"city_name\", StringType(), True),\n",
    "    StructField(\"country_name\", StringType(), True),\n",
    "    StructField(\"toss_winner\", StringType(), True),\n",
    "    StructField(\"match_winner\", StringType(), True),\n",
    "    StructField(\"toss_name\", StringType(), True),\n",
    "    StructField(\"win_type\", StringType(), True),\n",
    "    StructField(\"outcome_type\", StringType(), True),\n",
    "    StructField(\"manofmach\", StringType(), True),\n",
    "    StructField(\"win_margin\", IntegerType(), True),\n",
    "    StructField(\"country_id\", IntegerType(), True)\n",
    "])\n",
    "match_df = spark.read.schema(match_schema).format(\"csv\").option(\"header\",\"true\").load(\"dbfs:/FileStore/ipl_dataset_till_2017/raghu543-ipl-data-till-2017/Match.csv\")"
   ]
  },
  {
   "cell_type": "code",
   "execution_count": 0,
   "metadata": {
    "application/vnd.databricks.v1+cell": {
     "cellMetadata": {
      "byteLimit": 2048000,
      "rowLimit": 10000
     },
     "inputWidgets": {},
     "nuid": "43413f25-30d3-4b78-9fd3-53596670b003",
     "showTitle": false,
     "title": ""
    }
   },
   "outputs": [
    {
     "output_type": "stream",
     "name": "stdout",
     "output_type": "stream",
     "text": [
      "+--------+--------+--------------------+--------------------+----------+-----------+--------------------+----------+------------+--------------------+--------------------+---------+--------+------------+-----------+----------+----------+\n|match_sk|match_id|               team1|               team2|match_date|season_year|          venue_name| city_name|country_name|         toss_winner|        match_winner|toss_name|win_type|outcome_type|  manofmach|win_margin|country_id|\n+--------+--------+--------------------+--------------------+----------+-----------+--------------------+----------+------------+--------------------+--------------------+---------+--------+------------+-----------+----------+----------+\n|       0|  335987|Royal Challengers...|Kolkata Knight Ri...|      null|       2008|M Chinnaswamy Sta...| Bangalore|       India|Royal Challengers...|Kolkata Knight Ri...|    field|    runs|      Result|BB McCullum|       140|         1|\n|       1|  335988|     Kings XI Punjab| Chennai Super Kings|      null|       2008|Punjab Cricket As...|Chandigarh|       India| Chennai Super Kings| Chennai Super Kings|      bat|    runs|      Result| MEK Hussey|        33|         1|\n|       2|  335989|    Delhi Daredevils|    Rajasthan Royals|      null|       2008|    Feroz Shah Kotla|     Delhi|       India|    Rajasthan Royals|    Delhi Daredevils|      bat| wickets|      Result|MF Maharoof|         9|         1|\n|       3|  335990|      Mumbai Indians|Royal Challengers...|      null|       2008|    Wankhede Stadium|    Mumbai|       India|      Mumbai Indians|Royal Challengers...|      bat| wickets|      Result| MV Boucher|         5|         1|\n|       4|  335991|Kolkata Knight Ri...|     Deccan Chargers|      null|       2008|        Eden Gardens|   Kolkata|       India|     Deccan Chargers|Kolkata Knight Ri...|      bat| wickets|      Result|  DJ Hussey|         5|         1|\n+--------+--------+--------------------+--------------------+----------+-----------+--------------------+----------+------------+--------------------+--------------------+---------+--------+------------+-----------+----------+----------+\nonly showing top 5 rows\n\n"
     ]
    }
   ],
   "source": [
    "match_df.show(5)"
   ]
  },
  {
   "cell_type": "code",
   "execution_count": 0,
   "metadata": {
    "application/vnd.databricks.v1+cell": {
     "cellMetadata": {
      "byteLimit": 2048000,
      "rowLimit": 10000
     },
     "inputWidgets": {},
     "nuid": "a8ed6fb8-bd2d-4fd3-8c06-5cadb8d3cc5c",
     "showTitle": false,
     "title": ""
    }
   },
   "outputs": [],
   "source": [
    "player_schema = StructType([\n",
    "    StructField(\"player_sk\", IntegerType(), True),\n",
    "    StructField(\"player_id\", IntegerType(), True),\n",
    "    StructField(\"player_name\", StringType(), True),\n",
    "    StructField(\"dob\", DateType(), True),\n",
    "    StructField(\"batting_hand\", StringType(), True),\n",
    "    StructField(\"bowling_skill\", StringType(), True),\n",
    "    StructField(\"country_name\", StringType(), True)\n",
    "])\n",
    "player_df = spark.read.schema(player_schema).format(\"csv\").option(\"header\",\"true\").load(\"dbfs:/FileStore/ipl_dataset_till_2017/raghu543-ipl-data-till-2017/Player.csv\")"
   ]
  },
  {
   "cell_type": "code",
   "execution_count": 0,
   "metadata": {
    "application/vnd.databricks.v1+cell": {
     "cellMetadata": {
      "byteLimit": 2048000,
      "rowLimit": 10000
     },
     "inputWidgets": {},
     "nuid": "67333ec1-ca18-4b0e-b4a7-8e6db0ca7139",
     "showTitle": false,
     "title": ""
    }
   },
   "outputs": [],
   "source": [
    "player_match_schema = StructType([\n",
    "    StructField(\"player_match_sk\", IntegerType(), True),\n",
    "    StructField(\"playermatch_key\", DecimalType(10, 0), True),\n",
    "    StructField(\"match_id\", IntegerType(), True),\n",
    "    StructField(\"player_id\", IntegerType(), True),\n",
    "    StructField(\"player_name\", StringType(), True),\n",
    "    StructField(\"dob\", DateType(), True),\n",
    "    StructField(\"batting_hand\", StringType(), True),\n",
    "    StructField(\"bowling_skill\", StringType(), True),\n",
    "    StructField(\"country_name\", StringType(), True),\n",
    "    StructField(\"role_desc\", StringType(), True),\n",
    "    StructField(\"player_team\", StringType(), True),\n",
    "    StructField(\"opposit_team\", StringType(), True),\n",
    "    StructField(\"season_year\", IntegerType(), True),  # YearType() can be used if PySpark supports it directly\n",
    "    StructField(\"is_manofthematch\", BooleanType(), True),\n",
    "    StructField(\"age_as_on_match\", IntegerType(), True),\n",
    "    StructField(\"isplayers_team_won\", BooleanType(), True),\n",
    "    StructField(\"batting_status\", StringType(), True),\n",
    "    StructField(\"bowling_status\", StringType(), True),\n",
    "    StructField(\"player_captain\", StringType(), True),\n",
    "    StructField(\"opposit_captain\", StringType(), True),\n",
    "    StructField(\"player_keeper\", StringType(), True),\n",
    "    StructField(\"opposit_keeper\", StringType(), True)\n",
    "])\n",
    "player_match_df = spark.read.schema(player_match_schema).format(\"csv\").option(\"header\",\"true\").load(\"dbfs:/FileStore/ipl_dataset_till_2017/raghu543-ipl-data-till-2017/Player_match.csv\")"
   ]
  },
  {
   "cell_type": "code",
   "execution_count": 0,
   "metadata": {
    "application/vnd.databricks.v1+cell": {
     "cellMetadata": {
      "byteLimit": 2048000,
      "rowLimit": 10000
     },
     "inputWidgets": {},
     "nuid": "6d76e93c-83a0-4e30-91a4-de7ece324e24",
     "showTitle": false,
     "title": ""
    }
   },
   "outputs": [],
   "source": [
    "team_schema = StructType([\n",
    "    StructField(\"team_sk\", IntegerType(), True),\n",
    "    StructField(\"team_id\", IntegerType(), True),\n",
    "    StructField(\"team_name\", StringType(), True)\n",
    "])\n",
    "team_df = spark.read.schema(team_schema).format(\"csv\").option(\"header\",\"true\").load(\"dbfs:/FileStore/ipl_dataset_till_2017/raghu543-ipl-data-till-2017/Team.csv\")\n"
   ]
  },
  {
   "cell_type": "code",
   "execution_count": 0,
   "metadata": {
    "application/vnd.databricks.v1+cell": {
     "cellMetadata": {
      "byteLimit": 2048000,
      "rowLimit": 10000
     },
     "inputWidgets": {},
     "nuid": "af009f5c-eabb-46bc-bddb-135af378296e",
     "showTitle": false,
     "title": ""
    }
   },
   "outputs": [
    {
     "output_type": "stream",
     "name": "stdout",
     "output_type": "stream",
     "text": [
      "+--------+-------+-------+----------+------------+------------+------------------------+----------+-----------+----------+-----+-------+----+-------+-------+-------------+--------------+------+------+-------+----+------------+-------+-----------------+----------+----------------+-------------+----------+------+-------+-----------+------+----------+--------+----------------+---------+-------------------+-------------+----------------+----------+---------------+---------+------------------+--------------+--------------+------------+-------------+-----------+\n|match_id|over_id|ball_id|innings_no|team_batting|team_bowling|striker_batting_position|extra_type|runs_scored|extra_runs|wides|legbyes|byes|noballs|penalty|bowler_extras|      out_type|caught|bowled|run_out| lbw|retired_hurt|stumped|caught_and_bowled|hit_wicket|obstructingfeild|bowler_wicket|match_date|season|striker|non_striker|bowler|player_out|fielders|striker_match_sk|strikersk|nonstriker_match_sk|nonstriker_sk|fielder_match_sk|fielder_sk|bowler_match_sk|bowler_sk|playerout_match_sk|battingteam_sk|bowlingteam_sk|keeper_catch|player_out_sk|matchdatesk|\n+--------+-------+-------+----------+------------+------------+------------------------+----------+-----------+----------+-----+-------+----+-------+-------+-------------+--------------+------+------+-------+----+------------+-------+-----------------+----------+----------------+-------------+----------+------+-------+-----------+------+----------+--------+----------------+---------+-------------------+-------------+----------------+----------+---------------+---------+------------------+--------------+--------------+------------+-------------+-----------+\n|  598028|     15|      6|         1|           5|           2|                       6| No Extras|          4|         0|    0|      0|   0|      0|      0|            0|Not Applicable|  null|  null|   null|null|        null|   null|             null|      null|            null|         null|      null|  2013|    277|        104|    83|      null|    null|           20336|      276|              20333|          103|              -1|        -1|          20343|       82|                -1|             4|             1|        null|            0|       null|\n|  598028|     14|      1|         1|           5|           2|                       5| No Extras|          1|         0|    0|      0|   0|      0|      0|            0|Not Applicable|  null|  null|   null|null|        null|   null|             null|      null|            null|         null|      null|  2013|    104|          6|   346|      null|    null|           20333|      103|              20328|            5|              -1|        -1|          20348|      345|                -1|             4|             1|        null|            0|       null|\n|  598028|     14|      2|         1|           5|           2|                       3| No Extras|          1|         0|    0|      0|   0|      0|      0|            0|Not Applicable|  null|  null|   null|null|        null|   null|             null|      null|            null|         null|      null|  2013|      6|        104|   346|      null|    null|           20328|        5|              20333|          103|              -1|        -1|          20348|      345|                -1|             4|             1|        null|            0|       null|\n|  598028|     14|      3|         1|           5|           2|                       5| No Extras|          1|         0|    0|      0|   0|      0|      0|            0|Not Applicable|  null|  null|   null|null|        null|   null|             null|      null|            null|         null|      null|  2013|    104|          6|   346|      null|    null|           20333|      103|              20328|            5|              -1|        -1|          20348|      345|                -1|             4|             1|        null|            0|       null|\n|  598028|     14|      4|         1|           5|           2|                       3| No Extras|          0|         0|    0|      0|   0|      0|      0|            0|Not Applicable|  null|  null|   null|null|        null|   null|             null|      null|            null|         null|      null|  2013|      6|        104|   346|      null|    null|           20328|        5|              20333|          103|              -1|        -1|          20348|      345|                -1|             4|             1|        null|            0|       null|\n+--------+-------+-------+----------+------------+------------+------------------------+----------+-----------+----------+-----+-------+----+-------+-------+-------------+--------------+------+------+-------+----+------------+-------+-----------------+----------+----------------+-------------+----------+------+-------+-----------+------+----------+--------+----------------+---------+-------------------+-------------+----------------+----------+---------------+---------+------------------+--------------+--------------+------------+-------------+-----------+\nonly showing top 5 rows\n\n"
     ]
    }
   ],
   "source": [
    "#Filter to include only valid deleveries(excluding wides and no balls)\n",
    "ball_by_ball_df = ball_by_ball_df.filter((col(\"wides\")==0) & (col(\"noballs\")==0))\n",
    "ball_by_ball_df.show(5)"
   ]
  },
  {
   "cell_type": "code",
   "execution_count": 0,
   "metadata": {
    "application/vnd.databricks.v1+cell": {
     "cellMetadata": {
      "byteLimit": 2048000,
      "rowLimit": 10000
     },
     "inputWidgets": {},
     "nuid": "743a5c8a-4c94-4695-b992-a5cf0eeec7fd",
     "showTitle": false,
     "title": ""
    }
   },
   "outputs": [],
   "source": [
    "#aggregation: calculate total and avg runs scored in each match and innings\n",
    "total_and_avg_runs = ball_by_ball_df.groupBy(\"match_id\",\"innings_no\").agg(\n",
    "    sum(\"runs_scored\").alias(\"total_runs\"),\n",
    "    avg(\"runs_scored\").alias(\"average_runs\")\n",
    ")"
   ]
  },
  {
   "cell_type": "code",
   "execution_count": 0,
   "metadata": {
    "application/vnd.databricks.v1+cell": {
     "cellMetadata": {
      "byteLimit": 2048000,
      "rowLimit": 10000
     },
     "inputWidgets": {},
     "nuid": "c21e422a-58bd-46b7-8528-6c725eb603e3",
     "showTitle": false,
     "title": ""
    }
   },
   "outputs": [],
   "source": [
    "#Window func: Calculate running total of runs in each match for each over\n",
    "WindowSpec = Window.partitionBy(\"match_id\",\"innings_no\").orderBy(\"over_id\")\n",
    "\n",
    "ball_by_ball_df = ball_by_ball_df.withColumn(\n",
    "    \"running_totsl_runs\",\n",
    "    sum(\"runs_scored\").over(WindowSpec)\n",
    ")\n"
   ]
  },
  {
   "cell_type": "code",
   "execution_count": 0,
   "metadata": {
    "application/vnd.databricks.v1+cell": {
     "cellMetadata": {
      "byteLimit": 2048000,
      "rowLimit": 10000
     },
     "inputWidgets": {},
     "nuid": "cd391141-2a8d-4ac4-9a15-e8af91250fea",
     "showTitle": false,
     "title": ""
    }
   },
   "outputs": [],
   "source": [
    "#conditional column: high impact balls(either wicket or more than 6 runs includinf extras)\n",
    "\n",
    "ball_by_ball_df = ball_by_ball_df.withColumn(\n",
    "    \"High_impact\",\n",
    "    when((col(\"runs_scored\") + col(\"extra_runs\") > 6) | (col(\"bowler_wicket\")== True),True).otherwise(False)\n",
    ")"
   ]
  },
  {
   "cell_type": "code",
   "execution_count": 0,
   "metadata": {
    "application/vnd.databricks.v1+cell": {
     "cellMetadata": {
      "byteLimit": 2048000,
      "rowLimit": 10000
     },
     "inputWidgets": {},
     "nuid": "22ca4bc2-effd-4ee8-8648-e9026308253d",
     "showTitle": false,
     "title": ""
    }
   },
   "outputs": [
    {
     "output_type": "stream",
     "name": "stdout",
     "output_type": "stream",
     "text": [
      "+--------+-------+-------+----------+------------+------------+------------------------+----------+-----------+----------+-----+-------+----+-------+-------+-------------+--------------+------+------+-------+----+------------+-------+-----------------+----------+----------------+-------------+----------+------+-------+-----------+------+----------+--------+----------------+---------+-------------------+-------------+----------------+----------+---------------+---------+------------------+--------------+--------------+------------+-------------+-----------+------------------+-----------+\n|match_id|over_id|ball_id|innings_no|team_batting|team_bowling|striker_batting_position|extra_type|runs_scored|extra_runs|wides|legbyes|byes|noballs|penalty|bowler_extras|      out_type|caught|bowled|run_out| lbw|retired_hurt|stumped|caught_and_bowled|hit_wicket|obstructingfeild|bowler_wicket|match_date|season|striker|non_striker|bowler|player_out|fielders|striker_match_sk|strikersk|nonstriker_match_sk|nonstriker_sk|fielder_match_sk|fielder_sk|bowler_match_sk|bowler_sk|playerout_match_sk|battingteam_sk|bowlingteam_sk|keeper_catch|player_out_sk|matchdatesk|running_totsl_runs|High_impact|\n+--------+-------+-------+----------+------------+------------+------------------------+----------+-----------+----------+-----+-------+----+-------+-------+-------------+--------------+------+------+-------+----+------------+-------+-----------------+----------+----------------+-------------+----------+------+-------+-----------+------+----------+--------+----------------+---------+-------------------+-------------+----------------+----------+---------------+---------+------------------+--------------+--------------+------------+-------------+-----------+------------------+-----------+\n|  335987|      1|      1|         1|           1|           2|                       1|   legbyes|          0|         1|    0|      1|   0|      0|      0|            0|Not Applicable|  null|  null|   null|null|        null|   null|             null|      null|            null|         null|      null|  2008|      1|          2|    14|      null|    null|           12705|        0|              12706|            1|              -1|        -1|          12702|       13|                -1|             0|             1|        null|            0|       null|                 0|      false|\n|  335987|      1|      2|         1|           1|           2|                       2| No Extras|          0|         0|    0|      0|   0|      0|      0|            0|Not Applicable|  null|  null|   null|null|        null|   null|             null|      null|            null|         null|      null|  2008|      2|          1|    14|      null|    null|           12706|        1|              12705|            0|              -1|        -1|          12702|       13|                -1|             0|             1|        null|            0|       null|                 0|      false|\n|  335987|      1|      4|         1|           1|           2|                       2| No Extras|          0|         0|    0|      0|   0|      0|      0|            0|Not Applicable|  null|  null|   null|null|        null|   null|             null|      null|            null|         null|      null|  2008|      2|          1|    14|      null|    null|           12706|        1|              12705|            0|              -1|        -1|          12702|       13|                -1|             0|             1|        null|            0|       null|                 0|      false|\n|  335987|      1|      5|         1|           1|           2|                       2| No Extras|          0|         0|    0|      0|   0|      0|      0|            0|Not Applicable|  null|  null|   null|null|        null|   null|             null|      null|            null|         null|      null|  2008|      2|          1|    14|      null|    null|           12706|        1|              12705|            0|              -1|        -1|          12702|       13|                -1|             0|             1|        null|            0|       null|                 0|      false|\n|  335987|      1|      6|         1|           1|           2|                       2| No Extras|          0|         0|    0|      0|   0|      0|      0|            0|Not Applicable|  null|  null|   null|null|        null|   null|             null|      null|            null|         null|      null|  2008|      2|          1|    14|      null|    null|           12706|        1|              12705|            0|              -1|        -1|          12702|       13|                -1|             0|             1|        null|            0|       null|                 0|      false|\n+--------+-------+-------+----------+------------+------------+------------------------+----------+-----------+----------+-----+-------+----+-------+-------+-------------+--------------+------+------+-------+----+------------+-------+-----------------+----------+----------------+-------------+----------+------+-------+-----------+------+----------+--------+----------------+---------+-------------------+-------------+----------------+----------+---------------+---------+------------------+--------------+--------------+------------+-------------+-----------+------------------+-----------+\nonly showing top 5 rows\n\n"
     ]
    }
   ],
   "source": [
    "ball_by_ball_df.show(5)"
   ]
  },
  {
   "cell_type": "code",
   "execution_count": 0,
   "metadata": {
    "application/vnd.databricks.v1+cell": {
     "cellMetadata": {
      "byteLimit": 2048000,
      "rowLimit": 10000
     },
     "inputWidgets": {},
     "nuid": "a336f92f-3c28-4af7-bba1-a753da010cfc",
     "showTitle": false,
     "title": ""
    }
   },
   "outputs": [
    {
     "output_type": "stream",
     "name": "stdout",
     "output_type": "stream",
     "text": [
      "+--------+--------+--------------------+--------------------+----------+-----------+--------------------+----------+------------+--------------------+--------------------+---------+--------+------------+-------------+----------+----------+----+-----+----+-------------------+-----------------+\n|match_sk|match_id|               team1|               team2|match_date|season_year|          venue_name| city_name|country_name|         toss_winner|        match_winner|toss_name|win_type|outcome_type|    manofmach|win_margin|country_id|year|month| day|Win_margin_category|toss_match_winner|\n+--------+--------+--------------------+--------------------+----------+-----------+--------------------+----------+------------+--------------------+--------------------+---------+--------+------------+-------------+----------+----------+----+-----+----+-------------------+-----------------+\n|       0|  335987|Royal Challengers...|Kolkata Knight Ri...|      null|       2008|M Chinnaswamy Sta...| Bangalore|       India|Royal Challengers...|Kolkata Knight Ri...|    field|    runs|      Result|  BB McCullum|       140|         1|null| null|null|               High|               No|\n|       1|  335988|     Kings XI Punjab| Chennai Super Kings|      null|       2008|Punjab Cricket As...|Chandigarh|       India| Chennai Super Kings| Chennai Super Kings|      bat|    runs|      Result|   MEK Hussey|        33|         1|null| null|null|                Low|              Yes|\n|       2|  335989|    Delhi Daredevils|    Rajasthan Royals|      null|       2008|    Feroz Shah Kotla|     Delhi|       India|    Rajasthan Royals|    Delhi Daredevils|      bat| wickets|      Result|  MF Maharoof|         9|         1|null| null|null|                Low|               No|\n|       3|  335990|      Mumbai Indians|Royal Challengers...|      null|       2008|    Wankhede Stadium|    Mumbai|       India|      Mumbai Indians|Royal Challengers...|      bat| wickets|      Result|   MV Boucher|         5|         1|null| null|null|                Low|               No|\n|       4|  335991|Kolkata Knight Ri...|     Deccan Chargers|      null|       2008|        Eden Gardens|   Kolkata|       India|     Deccan Chargers|Kolkata Knight Ri...|      bat| wickets|      Result|    DJ Hussey|         5|         1|null| null|null|                Low|               No|\n|       5|  335992|    Rajasthan Royals|     Kings XI Punjab|      null|       2008|Sawai Mansingh St...|    Jaipur|       India|     Kings XI Punjab|    Rajasthan Royals|      bat| wickets|      Result|    SR Watson|         6|         1|null| null|null|                Low|               No|\n|       6|  335993|     Deccan Chargers|    Delhi Daredevils|      null|       2008|Rajiv Gandhi Inte...| Hyderabad|       India|     Deccan Chargers|    Delhi Daredevils|      bat| wickets|      Result|     V Sehwag|         9|         1|null| null|null|                Low|               No|\n|       7|  335994| Chennai Super Kings|      Mumbai Indians|      null|       2008|MA Chidambaram St...|   Chennai|       India|      Mumbai Indians| Chennai Super Kings|    field|    runs|      Result|    ML Hayden|         6|         1|null| null|null|                Low|               No|\n|       8|  335995|     Deccan Chargers|    Rajasthan Royals|      null|       2008|Rajiv Gandhi Inte...| Hyderabad|       India|    Rajasthan Royals|    Rajasthan Royals|    field| wickets|      Result|    YK Pathan|         3|         1|null| null|null|                Low|              Yes|\n|       9|  335996|     Kings XI Punjab|      Mumbai Indians|      null|       2008|Punjab Cricket As...|Chandigarh|       India|      Mumbai Indians|     Kings XI Punjab|    field|    runs|      Result|KC Sangakkara|        66|         1|null| null|null|             Medium|               No|\n+--------+--------+--------------------+--------------------+----------+-----------+--------------------+----------+------------+--------------------+--------------------+---------+--------+------------+-------------+----------+----------+----+-----+----+-------------------+-----------------+\nonly showing top 10 rows\n\n"
     ]
    }
   ],
   "source": [
    "from pyspark.sql.functions import year,month,dayofmonth,when\n",
    "#Extracting data from match date for detailed time based analysis\n",
    "match_df = match_df.withColumn(\"year\",year(\"match_date\"))\n",
    "match_df = match_df.withColumn(\"month\",month(\"match_date\"))\n",
    "match_df = match_df.withColumn(\"day\",dayofmonth(\"match_date\"))\n",
    "\n",
    "#Categorizing win margin\n",
    "match_df = match_df.withColumn(\n",
    "    \"Win_margin_category\",\n",
    "    when(col(\"win_margin\") >= 100, \"High\")\n",
    "    .when((col(\"win_margin\") >= 50) & (col(\"win_margin\") < 100), \"Medium\")\n",
    "    .otherwise(\"Low\")\n",
    ")\n",
    "\n",
    "#Analyze impact of toss: who wins toss and the match\n",
    "match_df = match_df.withColumn(\n",
    "    \"toss_match_winner\",\n",
    "    when(col(\"toss_winner\") == col(\"match_winner\"),\"Yes\").otherwise(\"No\")\n",
    ")\n",
    "\n",
    "#Showing Enhanced match dataframe\n",
    "match_df.show(10)\n",
    "\n",
    "\n"
   ]
  },
  {
   "cell_type": "code",
   "execution_count": 0,
   "metadata": {
    "application/vnd.databricks.v1+cell": {
     "cellMetadata": {
      "byteLimit": 2048000,
      "implicitDf": true,
      "rowLimit": 10000
     },
     "inputWidgets": {},
     "nuid": "8a8f2fc3-72e9-4435-beeb-26535958b2c2",
     "showTitle": false,
     "title": ""
    }
   },
   "outputs": [
    {
     "output_type": "display_data",
     "data": {
      "text/html": [
       "<style scoped>\n",
       "  .table-result-container {\n",
       "    max-height: 300px;\n",
       "    overflow: auto;\n",
       "  }\n",
       "  table, th, td {\n",
       "    border: 1px solid black;\n",
       "    border-collapse: collapse;\n",
       "  }\n",
       "  th, td {\n",
       "    padding: 5px;\n",
       "  }\n",
       "  th {\n",
       "    text-align: left;\n",
       "  }\n",
       "</style><div class='table-result-container'><table class='table-result'><thead style='background-color: white'><tr><th>season_year</th><th>toss_winner</th><th>win_type</th><th>win_margin</th></tr></thead><tbody><tr><td>2008</td><td>Chennai Super Kings</td><td>runs</td><td>33</td></tr><tr><td>2008</td><td>Rajasthan Royals</td><td>wickets</td><td>3</td></tr><tr><td>2008</td><td>Rajasthan Royals</td><td>wickets</td><td>7</td></tr><tr><td>2008</td><td>Deccan Chargers</td><td>wickets</td><td>10</td></tr><tr><td>2008</td><td>Chennai Super Kings</td><td>runs</td><td>13</td></tr><tr><td>2008</td><td>Kings XI Punjab</td><td>wickets</td><td>7</td></tr><tr><td>2008</td><td>Rajasthan Royals</td><td>runs</td><td>45</td></tr><tr><td>2008</td><td>Kings XI Punjab</td><td>runs</td><td>9</td></tr><tr><td>2008</td><td>Kings XI Punjab</td><td>wickets</td><td>6</td></tr><tr><td>2008</td><td>Deccan Chargers</td><td>wickets</td><td>7</td></tr><tr><td>2008</td><td>Mumbai Indians</td><td>wickets</td><td>7</td></tr><tr><td>2008</td><td>Chennai Super Kings</td><td>wickets</td><td>4</td></tr><tr><td>2008</td><td>Kolkata Knight Riders</td><td>runs</td><td>5</td></tr><tr><td>2008</td><td>Rajasthan Royals</td><td>wickets</td><td>8</td></tr><tr><td>2008</td><td>Mumbai Indians</td><td>wickets</td><td>9</td></tr><tr><td>2008</td><td>Kolkata Knight Riders</td><td>runs</td><td>23</td></tr><tr><td>2008</td><td>Rajasthan Royals</td><td>wickets</td><td>3</td></tr><tr><td>2008</td><td>Kolkata Knight Riders</td><td>runs</td><td>23</td></tr><tr><td>2008</td><td>Mumbai Indians</td><td>wickets</td><td>9</td></tr><tr><td>2008</td><td>Mumbai Indians</td><td>wickets</td><td>8</td></tr></tbody></table></div>"
      ]
     },
     "metadata": {
      "application/vnd.databricks.v1+output": {
       "addedWidgets": {},
       "aggData": [],
       "aggError": "",
       "aggOverflow": false,
       "aggSchema": [],
       "aggSeriesLimitReached": false,
       "aggType": "",
       "arguments": {},
       "columnCustomDisplayInfos": {},
       "data": [
        [
         2008,
         "Chennai Super Kings",
         "runs",
         33
        ],
        [
         2008,
         "Rajasthan Royals",
         "wickets",
         3
        ],
        [
         2008,
         "Rajasthan Royals",
         "wickets",
         7
        ],
        [
         2008,
         "Deccan Chargers",
         "wickets",
         10
        ],
        [
         2008,
         "Chennai Super Kings",
         "runs",
         13
        ],
        [
         2008,
         "Kings XI Punjab",
         "wickets",
         7
        ],
        [
         2008,
         "Rajasthan Royals",
         "runs",
         45
        ],
        [
         2008,
         "Kings XI Punjab",
         "runs",
         9
        ],
        [
         2008,
         "Kings XI Punjab",
         "wickets",
         6
        ],
        [
         2008,
         "Deccan Chargers",
         "wickets",
         7
        ],
        [
         2008,
         "Mumbai Indians",
         "wickets",
         7
        ],
        [
         2008,
         "Chennai Super Kings",
         "wickets",
         4
        ],
        [
         2008,
         "Kolkata Knight Riders",
         "runs",
         5
        ],
        [
         2008,
         "Rajasthan Royals",
         "wickets",
         8
        ],
        [
         2008,
         "Mumbai Indians",
         "wickets",
         9
        ],
        [
         2008,
         "Kolkata Knight Riders",
         "runs",
         23
        ],
        [
         2008,
         "Rajasthan Royals",
         "wickets",
         3
        ],
        [
         2008,
         "Kolkata Knight Riders",
         "runs",
         23
        ],
        [
         2008,
         "Mumbai Indians",
         "wickets",
         9
        ],
        [
         2008,
         "Mumbai Indians",
         "wickets",
         8
        ]
       ],
       "datasetInfos": [],
       "dbfsResultPath": null,
       "isJsonSchema": true,
       "metadata": {},
       "overflow": false,
       "plotOptions": {
        "customPlotOptions": {},
        "displayType": "table",
        "pivotAggregation": null,
        "pivotColumns": null,
        "xColumns": null,
        "yColumns": null
       },
       "removedWidgets": [],
       "schema": [
        {
         "metadata": "{}",
         "name": "season_year",
         "type": "\"integer\""
        },
        {
         "metadata": "{}",
         "name": "toss_winner",
         "type": "\"string\""
        },
        {
         "metadata": "{}",
         "name": "win_type",
         "type": "\"string\""
        },
        {
         "metadata": "{}",
         "name": "win_margin",
         "type": "\"integer\""
        }
       ],
       "type": "table"
      }
     },
     "output_type": "display_data"
    },
    {
     "output_type": "display_data",
     "data": {
      "text/plain": [
       "Databricks visualization. Run in Databricks to view."
      ]
     },
     "metadata": {
      "application/vnd.databricks.v1.subcommand+json": {
       "baseErrorDetails": null,
       "bindings": {},
       "collapsed": false,
       "command": "%python\n__backend_agg_display_orig = display\n__backend_agg_dfs = []\ndef __backend_agg_display_new(df):\n    __backend_agg_df_modules = [\"pandas.core.frame\", \"databricks.koalas.frame\", \"pyspark.sql.dataframe\", \"pyspark.pandas.frame\", \"pyspark.sql.connect.dataframe\"]\n    if (type(df).__module__ in __backend_agg_df_modules and type(df).__name__ == 'DataFrame') or isinstance(df, list):\n        __backend_agg_dfs.append(df)\n\ndisplay = __backend_agg_display_new\n\ndef __backend_agg_user_code_fn():\n    import base64\n    exec(base64.standard_b64decode(\"dG9zc19hbmRfbWF0Y2hfd2lubmVyc19kZiA9IG1hdGNoX2RmLmZpbHRlcihtYXRjaF9kZi50b3NzX21hdGNoX3dpbm5lciA9PSAiWWVzIikKcmVzdWx0X2RmID0gdG9zc19hbmRfbWF0Y2hfd2lubmVyc19kZi5zZWxlY3QoInNlYXNvbl95ZWFyIiwgInRvc3Nfd2lubmVyIiwid2luX3R5cGUiLCJ3aW5fbWFyZ2luIikKZGlzcGxheShyZXN1bHRfZGYp\").decode())\n\ntry:\n    # run user code\n    __backend_agg_user_code_fn()\n\n    #reset display function\n    display = __backend_agg_display_orig\n\n    if len(__backend_agg_dfs) > 0:\n        # create a temp view\n        if type(__backend_agg_dfs[0]).__module__ == \"databricks.koalas.frame\":\n            # koalas dataframe\n            __backend_agg_dfs[0].to_spark().createOrReplaceTempView(\"DatabricksViewd917bae\")\n        elif type(__backend_agg_dfs[0]).__module__ == \"pandas.core.frame\" or isinstance(__backend_agg_dfs[0], list):\n            # pandas dataframe\n            spark.createDataFrame(__backend_agg_dfs[0]).createOrReplaceTempView(\"DatabricksViewd917bae\")\n        else:\n            __backend_agg_dfs[0].createOrReplaceTempView(\"DatabricksViewd917bae\")\n        #run backend agg\n        display(spark.sql(\"\"\"WITH q AS (select * from DatabricksViewd917bae) SELECT `toss_winner`,COUNT(`season_year`) `column_90431a634` FROM q GROUP BY `toss_winner`\"\"\"))\n    else:\n        displayHTML(\"dataframe no longer exists. If you're using dataframe.display(), use display(dataframe) instead.\")\n\n\nfinally:\n    spark.sql(\"drop view if exists DatabricksViewd917bae\")\n    display = __backend_agg_display_orig\n    del __backend_agg_display_new\n    del __backend_agg_display_orig\n    del __backend_agg_dfs\n    del __backend_agg_user_code_fn\n\n",
       "commandTitle": "Visualization 1",
       "commandType": "auto",
       "commandVersion": 0,
       "commentThread": [],
       "commentsVisible": false,
       "contentSha256Hex": null,
       "customPlotOptions": {
        "redashChart": [
         {
          "key": "type",
          "value": "CHART"
         },
         {
          "key": "options",
          "value": {
           "alignYAxesAtZero": true,
           "coefficient": 1,
           "columnConfigurationMap": {
            "x": {
             "column": "toss_winner",
             "id": "column_90431a633"
            },
            "y": [
             {
              "column": "season_year",
              "id": "column_90431a634",
              "transform": "COUNT"
             }
            ]
           },
           "dateTimeFormat": "DD/MM/YYYY HH:mm",
           "direction": {
            "type": "counterclockwise"
           },
           "error_y": {
            "type": "data",
            "visible": true
           },
           "globalSeriesType": "column",
           "isAggregationOn": true,
           "legend": {
            "traceorder": "normal"
           },
           "missingValuesAsZero": true,
           "numberFormat": "0,0.[00000]",
           "percentFormat": "0[.]00%",
           "series": {
            "error_y": {
             "type": "data",
             "visible": true
            },
            "stacking": null
           },
           "seriesOptions": {
            "column_90431a634": {
             "name": "season_year",
             "type": "column",
             "yAxis": 0
            }
           },
           "showDataLabels": false,
           "sizemode": "diameter",
           "sortX": true,
           "sortY": true,
           "swappedAxes": true,
           "textFormat": "",
           "useAggregationsUi": true,
           "valuesOptions": {},
           "version": 2,
           "xAxis": {
            "labels": {
             "enabled": true
            },
            "type": "-"
           },
           "yAxis": [
            {
             "type": "-"
            },
            {
             "opposite": true,
             "type": "-"
            }
           ]
          }
         }
        ]
       },
       "datasetPreviewNameToCmdIdMap": {},
       "diffDeletes": [],
       "diffInserts": [],
       "displayType": "redashChart",
       "error": null,
       "errorDetails": null,
       "errorSummary": null,
       "errorTraceType": null,
       "finishTime": 0,
       "globalVars": {},
       "guid": "",
       "height": "auto",
       "hideCommandCode": false,
       "hideCommandResult": false,
       "iPythonMetadata": null,
       "inputWidgets": {},
       "isLockedInExamMode": false,
       "latestUser": "a user",
       "latestUserId": null,
       "listResultMetadata": null,
       "metadata": {
        "byteLimit": 2048000,
        "rowLimit": 10000
       },
       "nuid": "d54b142c-cf8f-4e76-a49b-556a1919e076",
       "origId": 0,
       "parentHierarchy": [],
       "pivotAggregation": null,
       "pivotColumns": null,
       "position": 20.0,
       "resultDbfsErrorMessage": null,
       "resultDbfsStatus": "INLINED_IN_TREE",
       "results": null,
       "showCommandTitle": false,
       "startTime": 0,
       "state": "input",
       "streamStates": {},
       "subcommandOptions": {
        "queryPlan": {
         "groups": [
          {
           "column": "toss_winner",
           "type": "column"
          }
         ],
         "selects": [
          {
           "column": "toss_winner",
           "type": "column"
          },
          {
           "alias": "column_90431a634",
           "args": [
            {
             "column": "season_year",
             "type": "column"
            }
           ],
           "function": "COUNT",
           "type": "function"
          }
         ]
        }
       },
       "submitTime": 0,
       "subtype": "tableResultSubCmd.visualization",
       "tableResultIndex": 0,
       "useConsistentColors": false,
       "version": "CommandV1",
       "width": "auto",
       "workflows": [],
       "xColumns": null,
       "yColumns": null
      }
     },
     "output_type": "display_data"
    }
   ],
   "source": [
    "toss_and_match_winners_df = match_df.filter(match_df.toss_match_winner == \"Yes\")\n",
    "result_df = toss_and_match_winners_df.select(\"season_year\", \"toss_winner\",\"win_type\",\"win_margin\").limit(20)\n",
    "display(result_df)"
   ]
  },
  {
   "cell_type": "code",
   "execution_count": 0,
   "metadata": {
    "application/vnd.databricks.v1+cell": {
     "cellMetadata": {
      "byteLimit": 2048000,
      "rowLimit": 10000
     },
     "inputWidgets": {},
     "nuid": "9bd5763c-0bfe-4eb1-8f04-8517fac2530c",
     "showTitle": false,
     "title": ""
    }
   },
   "outputs": [
    {
     "output_type": "stream",
     "name": "stdout",
     "output_type": "stream",
     "text": [
      "+---------+---------+---------------+----+--------------+----------------------+------------+-------------+\n|player_sk|player_id|player_name    |dob |batting_hand  |bowling_skill         |country_name|batting_style|\n+---------+---------+---------------+----+--------------+----------------------+------------+-------------+\n|0        |1        |sc ganguly     |null|Left-hand bat |Right-arm medium      |India       |Left-Handed  |\n|1        |2        |bb mccullum    |null|Right-hand bat|Right-arm medium      |New Zealand |Right-Handed |\n|2        |3        |rt ponting     |null|Right-hand bat|Right-arm medium      |Australia   |Right-Handed |\n|3        |4        |dj hussey      |null|Right-hand bat|Right-arm offbreak    |Australia   |Right-Handed |\n|4        |5        |mohammad hafeez|null|Right-hand bat|Right-arm offbreak    |Pakistan    |Right-Handed |\n|5        |6        |r dravid       |null|Right-hand bat|Right-arm offbreak    |India       |Right-Handed |\n|6        |7        |w jaffer       |null|Right-hand bat|Right-arm offbreak    |India       |Right-Handed |\n|7        |8        |v kohli        |null|Right-hand bat|Right-arm medium      |India       |Right-Handed |\n|8        |9        |jh kallis      |null|Right-hand bat|Right-arm fast-medium |South Africa|Right-Handed |\n|9        |10       |cl white       |null|Right-hand bat|Legbreak googly       |Australia   |Right-Handed |\n|10       |11       |mv boucher     |null|Right-hand bat|Right-arm medium      |South Africa|Right-Handed |\n|11       |12       |b akhil        |null|Right-hand bat|Right-arm medium-fast |India       |Right-Handed |\n|12       |13       |aa noffke      |null|Right-hand bat|Right-arm fast-medium |Australia   |Right-Handed |\n|13       |14       |p kumar        |null|Right-hand bat|Right-arm medium      |India       |Right-Handed |\n|14       |15       |z khan         |null|Right-hand bat|Left-arm fast-medium  |India       |Right-Handed |\n|15       |16       |sb joshi       |null|Left-hand bat |Slow left-arm orthodox|India       |Left-Handed  |\n|16       |17       |pa patel       |null|Left-hand bat |N/A                   |India       |Left-Handed  |\n|17       |18       |ml hayden      |null|Left-hand bat |Right-arm medium      |Australia   |Left-Handed  |\n|18       |19       |mek hussey     |null|Left-hand bat |Right-arm medium      |Australia   |Left-Handed  |\n|19       |20       |ms dhoni       |null|Right-hand bat|Right-arm medium      |India       |Right-Handed |\n+---------+---------+---------------+----+--------------+----------------------+------------+-------------+\nonly showing top 20 rows\n\n"
     ]
    }
   ],
   "source": [
    "from pyspark.sql.functions import lower, regexp_replace\n",
    "#Cleaning player names \n",
    "\n",
    "player_df = player_df.withColumn(\"player_name\",lower(regexp_replace(\"player_name\", \"[^a-z A-Z 0-9 ]\", \" \")))\n",
    " #lower(regexp_replace(\"player_name\", \"[^a-z A-Z 0-9 ]\", \" \")))\n",
    "\n",
    "\n",
    "#handling missing values in \"batting hand\" and \"bowling skill\"\n",
    "player_df = player_df.na.fill({\"batting_hand\":\"unknown\",\"bowling_skill\":\"unknown\"})\n",
    "\n",
    "#Categorizing players based on batting hand\n",
    "player_df = player_df.withColumn(\n",
    "    \"batting_style\",\n",
    "    when(col(\"batting_hand\").contains(\"Left\"),\"Left-Handed\").otherwise(\"Right-Handed\")\n",
    "    \n",
    ")\n",
    "player_df.show(20,truncate=False)\n",
    "#player_df.show(20)"
   ]
  },
  {
   "cell_type": "code",
   "execution_count": 0,
   "metadata": {
    "application/vnd.databricks.v1+cell": {
     "cellMetadata": {
      "byteLimit": 2048000,
      "rowLimit": 10000
     },
     "inputWidgets": {},
     "nuid": "de2ec3c4-d222-46e5-b359-d033635c3ad0",
     "showTitle": false,
     "title": ""
    }
   },
   "outputs": [],
   "source": [
    "ball_by_ball_df.createOrReplaceTempView(\"ball_by_ball\")\n",
    "match_df.createOrReplaceTempView(\"match\")\n",
    "player_df.createOrReplaceTempView(\"player\")\n",
    "player_match_df.createOrReplaceTempView(\"player_match\")\n",
    "team_df.createOrReplaceTempView(\"team\")"
   ]
  },
  {
   "cell_type": "code",
   "execution_count": 0,
   "metadata": {
    "application/vnd.databricks.v1+cell": {
     "cellMetadata": {
      "byteLimit": 2048000,
      "rowLimit": 10000
     },
     "inputWidgets": {},
     "nuid": "6e77e5c3-0a26-4992-8cd9-d452d8d64ba9",
     "showTitle": false,
     "title": ""
    }
   },
   "outputs": [],
   "source": [
    "top_scoring_batsmen_per_season = spark.sql(\"\"\"\n",
    "SELECT \n",
    "p.player_name,\n",
    "m.season_year,\n",
    "SUM(b.runs_scored) AS total_runs \n",
    "FROM ball_by_ball b\n",
    "JOIN match m ON b.match_id = m.match_id   \n",
    "JOIN player_match pm ON m.match_id = pm.match_id AND b.striker = pm.player_id     \n",
    "JOIN player p ON p.player_id = pm.player_id\n",
    "GROUP BY p.player_name, m.season_year\n",
    "ORDER BY m.season_year, total_runs DESC\n",
    "\"\"\")\n",
    "     "
   ]
  },
  {
   "cell_type": "code",
   "execution_count": 0,
   "metadata": {
    "application/vnd.databricks.v1+cell": {
     "cellMetadata": {
      "byteLimit": 2048000,
      "rowLimit": 10000
     },
     "inputWidgets": {},
     "nuid": "177e2dc6-1a34-4b5e-82a4-58f60b5cb3c9",
     "showTitle": false,
     "title": ""
    }
   },
   "outputs": [],
   "source": [
    "top_scoring_batsmen_per_season = spark.sql(\"\"\"\n",
    "WITH ranked_batsmen AS (\n",
    "    SELECT \n",
    "        p.player_name,\n",
    "        m.season_year,\n",
    "        SUM(b.runs_scored) AS total_runs,\n",
    "        ROW_NUMBER() OVER (PARTITION BY m.season_year ORDER BY SUM(b.runs_scored) DESC) AS rank\n",
    "    FROM ball_by_ball b\n",
    "    JOIN match m ON b.match_id = m.match_id   \n",
    "    JOIN player_match pm ON m.match_id = pm.match_id AND b.striker = pm.player_id     \n",
    "    JOIN player p ON p.player_id = pm.player_id\n",
    "    GROUP BY p.player_name, m.season_year\n",
    ")\n",
    "SELECT player_name, season_year, total_runs\n",
    "FROM ranked_batsmen\n",
    "WHERE rank = 1\n",
    "ORDER BY season_year;\n",
    "\"\"\")"
   ]
  },
  {
   "cell_type": "code",
   "execution_count": 0,
   "metadata": {
    "application/vnd.databricks.v1+cell": {
     "cellMetadata": {
      "byteLimit": 2048000,
      "rowLimit": 10000
     },
     "inputWidgets": {},
     "nuid": "97589738-bf8d-48b3-a048-97a67d90d20d",
     "showTitle": false,
     "title": ""
    }
   },
   "outputs": [
    {
     "output_type": "stream",
     "name": "stdout",
     "output_type": "stream",
     "text": [
      "+------------+-----------+----------+\n| player_name|season_year|total_runs|\n+------------+-----------+----------+\n|    se marsh|       2008|       614|\n|   ml hayden|       2009|       571|\n|sr tendulkar|       2010|       615|\n|    ch gayle|       2011|       598|\n|    ch gayle|       2012|       720|\n|  mek hussey|       2013|       732|\n|  rv uthappa|       2014|       659|\n|   da warner|       2015|       554|\n|     v kohli|       2016|       962|\n|   da warner|       2017|       634|\n+------------+-----------+----------+\n\n"
     ]
    }
   ],
   "source": [
    "top_scoring_batsmen_per_season.show(10)"
   ]
  },
  {
   "cell_type": "code",
   "execution_count": 0,
   "metadata": {
    "application/vnd.databricks.v1+cell": {
     "cellMetadata": {
      "byteLimit": 2048000,
      "rowLimit": 10000
     },
     "inputWidgets": {},
     "nuid": "122bf13d-b0ec-4092-85cc-6c3ba6112fe4",
     "showTitle": false,
     "title": ""
    }
   },
   "outputs": [
    {
     "output_type": "display_data",
     "data": {
      "text/html": [
       "<style scoped>\n",
       "  .table-result-container {\n",
       "    max-height: 300px;\n",
       "    overflow: auto;\n",
       "  }\n",
       "  table, th, td {\n",
       "    border: 1px solid black;\n",
       "    border-collapse: collapse;\n",
       "  }\n",
       "  th, td {\n",
       "    padding: 5px;\n",
       "  }\n",
       "  th {\n",
       "    text-align: left;\n",
       "  }\n",
       "</style><div class='table-result-container'><table class='table-result'><thead style='background-color: white'><tr><th>player_name</th><th>season_year</th><th>total_runs</th></tr></thead><tbody><tr><td>se marsh</td><td>2008</td><td>614</td></tr><tr><td>ml hayden</td><td>2009</td><td>571</td></tr><tr><td>sr tendulkar</td><td>2010</td><td>615</td></tr><tr><td>ch gayle</td><td>2011</td><td>598</td></tr><tr><td>ch gayle</td><td>2012</td><td>720</td></tr><tr><td>mek hussey</td><td>2013</td><td>732</td></tr><tr><td>rv uthappa</td><td>2014</td><td>659</td></tr><tr><td>da warner</td><td>2015</td><td>554</td></tr><tr><td>v kohli</td><td>2016</td><td>962</td></tr><tr><td>da warner</td><td>2017</td><td>634</td></tr></tbody></table></div>"
      ]
     },
     "metadata": {
      "application/vnd.databricks.v1+output": {
       "addedWidgets": {},
       "aggData": [],
       "aggError": "",
       "aggOverflow": false,
       "aggSchema": [],
       "aggSeriesLimitReached": false,
       "aggType": "",
       "arguments": {},
       "columnCustomDisplayInfos": {},
       "data": [
        [
         "se marsh",
         2008,
         614
        ],
        [
         "ml hayden",
         2009,
         571
        ],
        [
         "sr tendulkar",
         2010,
         615
        ],
        [
         "ch gayle",
         2011,
         598
        ],
        [
         "ch gayle",
         2012,
         720
        ],
        [
         "mek hussey",
         2013,
         732
        ],
        [
         "rv uthappa",
         2014,
         659
        ],
        [
         "da warner",
         2015,
         554
        ],
        [
         "v kohli",
         2016,
         962
        ],
        [
         "da warner",
         2017,
         634
        ]
       ],
       "datasetInfos": [],
       "dbfsResultPath": null,
       "isJsonSchema": true,
       "metadata": {},
       "overflow": false,
       "plotOptions": {
        "customPlotOptions": {},
        "displayType": "table",
        "pivotAggregation": null,
        "pivotColumns": null,
        "xColumns": null,
        "yColumns": null
       },
       "removedWidgets": [],
       "schema": [
        {
         "metadata": "{}",
         "name": "player_name",
         "type": "\"string\""
        },
        {
         "metadata": "{}",
         "name": "season_year",
         "type": "\"integer\""
        },
        {
         "metadata": "{}",
         "name": "total_runs",
         "type": "\"long\""
        }
       ],
       "type": "table"
      }
     },
     "output_type": "display_data"
    },
    {
     "output_type": "display_data",
     "data": {
      "text/plain": [
       "Databricks visualization. Run in Databricks to view."
      ]
     },
     "metadata": {
      "application/vnd.databricks.v1.subcommand+json": {
       "baseErrorDetails": null,
       "bindings": {},
       "collapsed": false,
       "command": "%python\n__backend_agg_display_orig = display\n__backend_agg_dfs = []\ndef __backend_agg_display_new(df):\n    __backend_agg_df_modules = [\"pandas.core.frame\", \"databricks.koalas.frame\", \"pyspark.sql.dataframe\", \"pyspark.pandas.frame\", \"pyspark.sql.connect.dataframe\"]\n    if (type(df).__module__ in __backend_agg_df_modules and type(df).__name__ == 'DataFrame') or isinstance(df, list):\n        __backend_agg_dfs.append(df)\n\ndisplay = __backend_agg_display_new\n\ndef __backend_agg_user_code_fn():\n    import base64\n    exec(base64.standard_b64decode(\"ZGlzcGxheSh0b3Bfc2NvcmluZ19iYXRzbWVuX3Blcl9zZWFzb24p\").decode())\n\ntry:\n    # run user code\n    __backend_agg_user_code_fn()\n\n    #reset display function\n    display = __backend_agg_display_orig\n\n    if len(__backend_agg_dfs) > 0:\n        # create a temp view\n        if type(__backend_agg_dfs[0]).__module__ == \"databricks.koalas.frame\":\n            # koalas dataframe\n            __backend_agg_dfs[0].to_spark().createOrReplaceTempView(\"DatabricksView7d97fe0\")\n        elif type(__backend_agg_dfs[0]).__module__ == \"pandas.core.frame\" or isinstance(__backend_agg_dfs[0], list):\n            # pandas dataframe\n            spark.createDataFrame(__backend_agg_dfs[0]).createOrReplaceTempView(\"DatabricksView7d97fe0\")\n        else:\n            __backend_agg_dfs[0].createOrReplaceTempView(\"DatabricksView7d97fe0\")\n        #run backend agg\n        display(spark.sql(\"\"\"WITH q AS (select * from DatabricksView7d97fe0) SELECT `season_year`,SUM(`total_runs`) `column_3b46775815`,`player_name` FROM q GROUP BY `player_name`,`season_year`\"\"\"))\n    else:\n        displayHTML(\"dataframe no longer exists. If you're using dataframe.display(), use display(dataframe) instead.\")\n\n\nfinally:\n    spark.sql(\"drop view if exists DatabricksView7d97fe0\")\n    display = __backend_agg_display_orig\n    del __backend_agg_display_new\n    del __backend_agg_display_orig\n    del __backend_agg_dfs\n    del __backend_agg_user_code_fn\n\n",
       "commandTitle": "Visualization 1",
       "commandType": "auto",
       "commandVersion": 0,
       "commentThread": [],
       "commentsVisible": false,
       "contentSha256Hex": null,
       "customPlotOptions": {
        "redashChart": [
         {
          "key": "type",
          "value": "CHART"
         },
         {
          "key": "options",
          "value": {
           "alignYAxesAtZero": true,
           "coefficient": 1,
           "columnConfigurationMap": {
            "series": {
             "column": "player_name",
             "id": "column_3b46775817"
            },
            "x": {
             "column": "season_year",
             "id": "column_3b46775813"
            },
            "y": [
             {
              "column": "total_runs",
              "id": "column_3b46775815",
              "transform": "SUM"
             }
            ]
           },
           "dateTimeFormat": "DD/MM/YYYY HH:mm",
           "direction": {
            "type": "counterclockwise"
           },
           "error_y": {
            "type": "data",
            "visible": true
           },
           "globalSeriesType": "column",
           "isAggregationOn": true,
           "legend": {
            "traceorder": "normal"
           },
           "missingValuesAsZero": true,
           "numberFormat": "0,0.[00000]",
           "percentFormat": "0[.]00%",
           "series": {
            "error_y": {
             "type": "data",
             "visible": true
            },
            "percentValues": false,
            "stacking": null
           },
           "seriesOptions": {
            "column_3b46775815": {
             "type": "column",
             "yAxis": 0
            },
            "ml hayden": {
             "color": "#FF7DE3"
            },
            "sr tendulkar": {
             "color": "#000000"
            }
           },
           "showDataLabels": false,
           "sizemode": "diameter",
           "sortX": true,
           "sortY": true,
           "swappedAxes": false,
           "textFormat": "",
           "useAggregationsUi": true,
           "valuesOptions": {},
           "version": 2,
           "xAxis": {
            "labels": {
             "enabled": true
            },
            "type": "-"
           },
           "yAxis": [
            {
             "type": "-"
            },
            {
             "opposite": true,
             "type": "-"
            }
           ]
          }
         }
        ]
       },
       "datasetPreviewNameToCmdIdMap": {},
       "diffDeletes": [],
       "diffInserts": [],
       "displayType": "redashChart",
       "error": null,
       "errorDetails": null,
       "errorSummary": null,
       "errorTraceType": null,
       "finishTime": 0,
       "globalVars": {},
       "guid": "",
       "height": "auto",
       "hideCommandCode": false,
       "hideCommandResult": false,
       "iPythonMetadata": null,
       "inputWidgets": {},
       "isLockedInExamMode": false,
       "latestUser": "a user",
       "latestUserId": null,
       "listResultMetadata": null,
       "metadata": {
        "byteLimit": 2048000,
        "rowLimit": 10000
       },
       "nuid": "2b747f9c-ffec-40bf-b36c-3c5711250dfb",
       "origId": 0,
       "parentHierarchy": [],
       "pivotAggregation": null,
       "pivotColumns": null,
       "position": 25.75,
       "resultDbfsErrorMessage": null,
       "resultDbfsStatus": "INLINED_IN_TREE",
       "results": null,
       "showCommandTitle": false,
       "startTime": 0,
       "state": "input",
       "streamStates": {},
       "subcommandOptions": {
        "queryPlan": {
         "groups": [
          {
           "column": "season_year",
           "type": "column"
          },
          {
           "column": "player_name",
           "type": "column"
          }
         ],
         "selects": [
          {
           "column": "season_year",
           "type": "column"
          },
          {
           "alias": "column_3b46775815",
           "args": [
            {
             "column": "total_runs",
             "type": "column"
            }
           ],
           "function": "SUM",
           "type": "function"
          },
          {
           "column": "player_name",
           "type": "column"
          }
         ]
        }
       },
       "submitTime": 0,
       "subtype": "tableResultSubCmd.visualization",
       "tableResultIndex": 0,
       "useConsistentColors": false,
       "version": "CommandV1",
       "width": "auto",
       "workflows": [],
       "xColumns": null,
       "yColumns": null
      }
     },
     "output_type": "display_data"
    }
   ],
   "source": [
    "display(top_scoring_batsmen_per_season)"
   ]
  },
  {
   "cell_type": "code",
   "execution_count": 0,
   "metadata": {
    "application/vnd.databricks.v1+cell": {
     "cellMetadata": {
      "byteLimit": 2048000,
      "rowLimit": 10000
     },
     "inputWidgets": {},
     "nuid": "1449fc98-3e33-440a-a5da-4a5422cfe846",
     "showTitle": false,
     "title": ""
    }
   },
   "outputs": [],
   "source": [
    "import matplotlib.pyplot as plt\n",
    "import seaborn as sns"
   ]
  },
  {
   "cell_type": "code",
   "execution_count": 0,
   "metadata": {
    "application/vnd.databricks.v1+cell": {
     "cellMetadata": {
      "byteLimit": 2048000,
      "rowLimit": 10000
     },
     "inputWidgets": {},
     "nuid": "0df00885-5cb1-4f10-a761-b8214191d9e6",
     "showTitle": false,
     "title": ""
    }
   },
   "outputs": [],
   "source": [
    "# Execute SQL Query\n",
    "team_toss_win_performance = spark.sql(\"\"\"\n",
    "SELECT team1, COUNT(*) AS matches_played, SUM(CASE WHEN toss_winner = match_winner THEN 1 ELSE 0 END) AS wins_after_toss\n",
    "FROM match\n",
    "WHERE toss_winner = team1\n",
    "GROUP BY team1\n",
    "ORDER BY wins_after_toss DESC\n",
    "\"\"\")\n"
   ]
  },
  {
   "cell_type": "code",
   "execution_count": 0,
   "metadata": {
    "application/vnd.databricks.v1+cell": {
     "cellMetadata": {
      "byteLimit": 2048000,
      "rowLimit": 10000
     },
     "inputWidgets": {},
     "nuid": "5ab336aa-3872-4b4a-b545-9d2b631dda36",
     "showTitle": false,
     "title": ""
    }
   },
   "outputs": [
    {
     "output_type": "display_data",
     "data": {
      "image/png": "[encoded data removed]"
     },
     "metadata": {
      "application/vnd.databricks.v1+output": {
       "addedWidgets": {},
       "arguments": {},
       "data": "data:image/png;base64,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\n",
       "datasetInfos": [],
       "metadata": {},
       "removedWidgets": [],
       "type": "image"
      }
     },
     "output_type": "display_data"
    }
   ],
   "source": [
    "# Convert to Pandas DataFrame\n",
    "team_toss_win_pd = team_toss_win_performance.toPandas()\n",
    "\n",
    "# Plot\n",
    "plt.figure(figsize=(12, 8))\n",
    "sns.barplot(x='wins_after_toss', y='team1', data=team_toss_win_pd)\n",
    "plt.title('Team Performance After Winning Toss')\n",
    "plt.xlabel('Wins After Winning Toss')\n",
    "plt.ylabel('Team')\n",
    "plt.show()\n"
   ]
  },
  {
   "cell_type": "code",
   "execution_count": 0,
   "metadata": {
    "application/vnd.databricks.v1+cell": {
     "cellMetadata": {
      "byteLimit": 2048000,
      "rowLimit": 10000
     },
     "inputWidgets": {},
     "nuid": "b3898c99-3812-4cd9-9fe3-65a10e6b1285",
     "showTitle": false,
     "title": ""
    }
   },
   "outputs": [],
   "source": [
    "#-- Calculate the total runs per match, innings, and venue\n",
    "avg_score_by_venues = spark.sql(\"\"\"\n",
    "WITH match_innings_scores AS (\n",
    "    SELECT \n",
    "        b.match_id, \n",
    "        m.venue_name, \n",
    "        b.innings_no,\n",
    "        SUM(b.runs_scored) AS total_runs\n",
    "    FROM ball_by_ball b\n",
    "    JOIN match m ON b.match_id = m.match_id\n",
    "    GROUP BY b.match_id, m.venue_name, b.innings_no\n",
    ")\n",
    "\n",
    "-- Calculate the average and highest scores per venue considering both innings\n",
    "SELECT \n",
    "    venue_name, \n",
    "    AVG(total_runs) AS average_score, \n",
    "    MAX(total_runs) AS highest_score\n",
    "FROM match_innings_scores\n",
    "GROUP BY venue_name\n",
    "ORDER BY average_score DESC;\n",
    "\"\"\")\n"
   ]
  },
  {
   "cell_type": "code",
   "execution_count": 0,
   "metadata": {
    "application/vnd.databricks.v1+cell": {
     "cellMetadata": {
      "byteLimit": 2048000,
      "rowLimit": 10000
     },
     "inputWidgets": {},
     "nuid": "2e4026c3-0697-4c54-b494-f90cd4472363",
     "showTitle": false,
     "title": ""
    }
   },
   "outputs": [
    {
     "output_type": "stream",
     "name": "stdout",
     "output_type": "stream",
     "text": [
      "+--------------------+------------------+-------------+\n|          venue_name|     average_score|highest_score|\n+--------------------+------------------+-------------+\n|   Brabourne Stadium| 162.9090909090909|          203|\n|Punjab Cricket As...|158.71428571428572|          184|\n|    Barabati Stadium|155.78571428571428|          221|\n|          Green Park|             154.0|          194|\n|Maharashtra Crick...|151.03333333333333|          197|\n|Rajiv Gandhi Inte...|             151.0|          201|\n|Himachal Pradesh ...|150.55555555555554|          200|\n|Punjab Cricket As...|148.38571428571427|          230|\n|    Wankhede Stadium|148.23684210526315|          227|\n|Holkar Cricket St...|             148.1|          191|\n|Punjab Cricket As...|             148.0|          204|\n|MA Chidambaram St...|146.80612244897958|          240|\n|    Feroz Shah Kotla|146.45378151260505|          215|\n|M Chinnaswamy Sta...|145.29323308270676|          247|\n|Saurashtra Cricke...|145.04545454545453|          209|\n|Sharjah Cricket S...|143.08333333333334|          184|\n|De Beers Diamond ...|             142.5|          164|\n|     SuperSport Park|142.08333333333334|          180|\n|        Eden Gardens| 139.9344262295082|          199|\n|JSCA Internationa...|139.64285714285714|          184|\n+--------------------+------------------+-------------+\nonly showing top 20 rows\n\n"
     ]
    }
   ],
   "source": [
    "avg_score_by_venues.show()"
   ]
  },
  {
   "cell_type": "code",
   "execution_count": 0,
   "metadata": {
    "application/vnd.databricks.v1+cell": {
     "cellMetadata": {
      "byteLimit": 2048000,
      "rowLimit": 10000
     },
     "inputWidgets": {},
     "nuid": "f3524e60-90a8-4b2e-abeb-ac7e5fe6329b",
     "showTitle": false,
     "title": ""
    }
   },
   "outputs": [
    {
     "output_type": "display_data",
     "data": {
      "image/png": "[encoded data removed]"
     },
     "metadata": {
      "application/vnd.databricks.v1+output": {
       "addedWidgets": {},
       "arguments": {},
       "data": "data:image/png;base64,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\n",
       "datasetInfos": [],
       "metadata": {},
       "removedWidgets": [],
       "type": "image"
      }
     },
     "output_type": "display_data"
    }
   ],
   "source": [
    "avg_score_by_venues_pd= avg_score_by_venues.toPandas()\n",
    "\n",
    "plt.figure(figsize=(14,8))\n",
    "sns.barplot(x='average_score',y='venue_name',data=avg_score_by_venues_pd)\n",
    "plt.title('Distribution of scores by venue')\n",
    "plt.xlabel('Average score')\n",
    "plt.ylabel('Venue')\n",
    "plt.show()"
   ]
  },
  {
   "cell_type": "code",
   "execution_count": 0,
   "metadata": {
    "application/vnd.databricks.v1+cell": {
     "cellMetadata": {
      "byteLimit": 2048000,
      "rowLimit": 10000
     },
     "inputWidgets": {},
     "nuid": "24a780da-97a6-4283-ad7c-43ee390eb83c",
     "showTitle": false,
     "title": ""
    }
   },
   "outputs": [],
   "source": []
  }
 ],
 "metadata": {
  "application/vnd.databricks.v1+notebook": {
   "dashboards": [],
   "environmentMetadata": null,
   "language": "python",
   "notebookMetadata": {
    "mostRecentlyExecutedCommandWithImplicitDF": {
     "commandId": 1622876037382036,
     "dataframes": [
      "_sqldf"
     ]
    },
    "pythonIndentUnit": 4
   },
   "notebookName": "ipl_data_analysis_spark",
   "widgets": {}
  }
 },
 "nbformat": 4,
 "nbformat_minor": 0
}
